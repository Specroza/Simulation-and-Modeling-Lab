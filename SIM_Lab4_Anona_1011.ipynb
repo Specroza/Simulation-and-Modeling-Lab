{
  "nbformat": 4,
  "nbformat_minor": 0,
  "metadata": {
    "colab": {
      "provenance": []
    },
    "kernelspec": {
      "name": "python3",
      "display_name": "Python 3"
    },
    "language_info": {
      "name": "python"
    }
  },
  "cells": [
    {
      "cell_type": "code",
      "execution_count": null,
      "metadata": {
        "colab": {
          "base_uri": "https://localhost:8080/"
        },
        "id": "7qn95Er-nx7o",
        "outputId": "321acff6-de9d-40c2-a305-a846269a680e"
      },
      "outputs": [
        {
          "output_type": "stream",
          "name": "stdout",
          "text": [
            "Range Used | Total Points | Points Inside | Estimated π | Error from π\n",
            "[0, 4.1]   | 22222        | 17384         | 3.129151    | 0.012441\n",
            "[0, 4.1]   | 22222        | 17438         | 3.138871    | 0.002721\n",
            "[0, 4.1]   | 22222        | 17430         | 3.137431    | 0.004161\n",
            "[0, 4.1]   | 22222        | 17428         | 3.137071    | 0.004521\n",
            "[0, 4.1]   | 22222        | 17440         | 3.139231    | 0.002361\n"
          ]
        }
      ],
      "source": [
        "import random\n",
        "import numpy as np\n",
        "import math\n",
        "\n",
        "def estimate_pi(num_points):\n",
        "    inside = 0  # Count points inside the circle\n",
        "\n",
        "    for i in range(num_points):\n",
        "        if i < num_points // 2:\n",
        "            x = random.uniform(0, 1.1)\n",
        "            y = random.uniform(0, 1.1)\n",
        "        else:\n",
        "            x = np.random.rand() * 1.1\n",
        "            y = np.random.rand() * 1.1\n",
        "\n",
        "        if x*x + y*y <= 1.1**2:\n",
        "            inside += 1  # Point is inside the circle\n",
        "\n",
        "    pi_estimate = 4 * inside / num_points\n",
        "    error = abs(math.pi - pi_estimate)\n",
        "\n",
        "    return num_points, inside, pi_estimate, error  # Return all needed values\n",
        "\n",
        "\n",
        "print(\"Range Used | Total Points | Points Inside | Estimated π | Error from π\")\n",
        "for run in range(1, 6):\n",
        "    num_points = 22222\n",
        "    total, inside, pi_estimate, error = estimate_pi(num_points)\n",
        "    print(f\"[0, 4.1]   | {total:<12} | {inside:<13} | {pi_estimate:<11.6f} | {error:.6f}\")\n",
        "\n",
        "\n"
      ]
    }
  ]
}